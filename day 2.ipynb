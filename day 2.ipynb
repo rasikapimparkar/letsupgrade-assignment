{
 "cells": [
  {
   "cell_type": "markdown",
   "metadata": {},
   "source": [
    "# question 1\n",
    "List Methods in Python | Set 1 (in, not in, len(), min(), max()…)\n",
    "List Methods in Python | Set 2 (del, remove(), sort(), insert(), pop(), extend()…)\n",
    "\n",
    "question 2\n",
    "A dictionary is a collection which is unordered, changeable and indexed. In Python dictionaries are written with curly brackets, and they have keys and values.\n",
    "Method\tDescription\n",
    "fromkeys()\tReturns a dictionary with the specified keys and value\n",
    "get()\tReturns the value of the specified key\n",
    "items()\tReturns a list containing a tuple for each key value pair\n",
    "keys()\tReturns a list containing the dictionary's keys\n",
    "\n",
    "question 3\n",
    "A set is a collection of objects, called the elements or members of the set. ... 1 Page 2 2 1. Sets and Functions Sets are determined entirely by their elements. Thus, the sets X, Y are equal, written X = Y , if x ∈ X if and only if x ∈ Y. It is convenient to define the empty set, denoted by ∅, as the set with no elements.\n",
    "\n",
    "question 4\n",
    "The main difference between the tuples and the lists is that the tuples cannot be changed unlike lists.\n",
    "...\n",
    "Built-in Tuple Functions.\n",
    "\tFunction & Description\tmax(tuple) Returns item from the tuple with max value.\n",
    "\tmin(tuple) Returns item from the tuple with min value.\n",
    "\ttuple(seq) Converts a list into tuple.\n",
    "    \n",
    "    question 5\n",
    "    Methods used to obtain information about an object are known as accessor methods. One accessor method that you can use with strings is the length() method, which returns the number of characters contained in the string object. The following program is an example of length(), method String class."
   ]
  }
 ],
 "metadata": {
  "kernelspec": {
   "display_name": "Python 3",
   "language": "python",
   "name": "python3"
  },
  "language_info": {
   "codemirror_mode": {
    "name": "ipython",
    "version": 3
   },
   "file_extension": ".py",
   "mimetype": "text/x-python",
   "name": "python",
   "nbconvert_exporter": "python",
   "pygments_lexer": "ipython3",
   "version": "3.7.6"
  }
 },
 "nbformat": 4,
 "nbformat_minor": 4
}
