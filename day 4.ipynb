{
 "cells": [
  {
   "cell_type": "code",
   "execution_count": 1,
   "metadata": {},
   "outputs": [
    {
     "name": "stdout",
     "output_type": "stream",
     "text": [
      "Enter the number: 4536\n",
      "Not an Armstrong number\n"
     ]
    }
   ],
   "source": [
    "num = int(input(\"Enter the number: \")) \n",
    "sum = 0 \n",
    "temp = num \n",
    "while (temp > 0): \n",
    "    digit = temp % 10 \n",
    "    sum += digit ** 3 \n",
    "    temp //= 10 \n",
    "if (num == sum): \n",
    "    print(\"Armstrong number\") \n",
    "else: \n",
    "    print(\"Not an Armstrong number\")\n",
    "    "
   ]
  },
  {
   "cell_type": "code",
   "execution_count": null,
   "metadata": {},
   "outputs": [],
   "source": []
  }
 ],
 "metadata": {
  "kernelspec": {
   "display_name": "Python 3",
   "language": "python",
   "name": "python3"
  },
  "language_info": {
   "codemirror_mode": {
    "name": "ipython",
    "version": 3
   },
   "file_extension": ".py",
   "mimetype": "text/x-python",
   "name": "python",
   "nbconvert_exporter": "python",
   "pygments_lexer": "ipython3",
   "version": "3.7.6"
  }
 },
 "nbformat": 4,
 "nbformat_minor": 4
}
